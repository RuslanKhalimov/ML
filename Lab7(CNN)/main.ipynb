{
 "cells": [
  {
   "cell_type": "code",
   "execution_count": 1,
   "metadata": {
    "pycharm": {
     "is_executing": false,
     "name": "#%%\n"
    }
   },
   "outputs": [],
   "source": [
    "import numpy as np\n",
    "from mnist import MNIST\n",
    "from tqdm.notebook import tqdm\n",
    "from tabulate import tabulate"
   ]
  },
  {
   "cell_type": "code",
   "execution_count": 2,
   "metadata": {
    "pycharm": {
     "is_executing": false
    }
   },
   "outputs": [],
   "source": [
    "eps = 1e-3"
   ]
  },
  {
   "cell_type": "code",
   "execution_count": 3,
   "metadata": {
    "pycharm": {
     "is_executing": false,
     "name": "#%%\n"
    }
   },
   "outputs": [],
   "source": [
    "class Conv:\n",
    "    __padding = ((1, 1), (1, 1), (0, 0))\n",
    "\n",
    "    def __init__(self, num_filters=8, filter_size=3, learn_rate=0.005):\n",
    "        self.num_filters = num_filters\n",
    "        self.filter_size = filter_size\n",
    "        self.filters = np.random.randn(num_filters, filter_size, filter_size) / filter_size ** 2\n",
    "        self.last_image = None\n",
    "        self.learn_rate = learn_rate\n",
    "        self.G = np.zeros((num_filters, filter_size, filter_size), dtype=float)\n",
    "        self.e = np.full((num_filters, filter_size, filter_size), eps)\n",
    "\n",
    "    def __get_sub_image(self, image):\n",
    "        h, w, _ = image.shape\n",
    "\n",
    "        for i in range(h - self.filter_size + 1):\n",
    "            for j in range(w - self.filter_size + 1):\n",
    "                sub_image = image[i:(i + self.filter_size), j:(j + self.filter_size)]\n",
    "                yield np.sum(sub_image, axis=2), i, j\n",
    "\n",
    "    def forward(self, image):\n",
    "        new_image = np.pad(image, self.__padding)\n",
    "\n",
    "        h, w, _ = new_image.shape\n",
    "        self.last_image = image\n",
    "        result = np.zeros((h - self.filter_size + 1, w - self.filter_size + 1, self.num_filters))\n",
    "        for sub_image, i, j in self.__get_sub_image(new_image):\n",
    "            result[i][j] = np.sum(sub_image * self.filters, axis=(1, 2))\n",
    "        return result\n",
    "\n",
    "    def back_prop(self, d_loss_d_output):\n",
    "        d_loss_d_filters = np.zeros(self.filters.shape)\n",
    "\n",
    "        for sub_image, i, j in self.__get_sub_image(np.pad(self.last_image, self.__padding)):\n",
    "            for f in range(self.num_filters):\n",
    "                d_loss_d_filters[f] += d_loss_d_output[i][j][f] * sub_image\n",
    "\n",
    "        d_loss_d_input = np.zeros(self.last_image.shape)\n",
    "        for sub_image, i, j in self.__get_sub_image(np.pad(d_loss_d_output, self.__padding)):\n",
    "            d_loss_d_input[i][j] = np.sum(sub_image * self.filters, axis=(0, 1, 2))\n",
    "\n",
    "        self.G += d_loss_d_filters * d_loss_d_filters\n",
    "\n",
    "        self.filters -= self.learn_rate / np.sqrt(self.G + self.e) * d_loss_d_filters\n",
    "\n",
    "        return d_loss_d_input\n",
    "    "
   ]
  },
  {
   "cell_type": "code",
   "execution_count": 4,
   "metadata": {
    "pycharm": {
     "is_executing": false,
     "name": "#%%\n"
    }
   },
   "outputs": [],
   "source": [
    "class MaxPool:\n",
    "    def __init__(self, pool_size=2):\n",
    "        self.pool_size = pool_size\n",
    "        self.last_input = None\n",
    "\n",
    "    def __get_sub_image(self, input):\n",
    "        h, w, _ = input.shape\n",
    "        new_h = h // self.pool_size\n",
    "        new_w = w // self.pool_size\n",
    "\n",
    "        for i in range(new_h):\n",
    "            for j in range(new_w):\n",
    "                sub_image = input[(i * self.pool_size):((i + 1) * self.pool_size),\n",
    "                            (j * self.pool_size):((j + 1) * self.pool_size)]\n",
    "                yield sub_image, i, j\n",
    "\n",
    "    def forward(self, input):\n",
    "        self.last_input = input\n",
    "\n",
    "        h, w, d = input.shape\n",
    "        output = np.zeros((h // self.pool_size, w // self.pool_size, d))\n",
    "\n",
    "        for sub_image, i, j in self.__get_sub_image(input):\n",
    "            output[i][j] = np.amax(sub_image, axis=(0, 1))\n",
    "\n",
    "        return output\n",
    "\n",
    "    def back_prop(self, d_loss_d_output):\n",
    "        d_loss_d_input = np.zeros(self.last_input.shape)\n",
    "\n",
    "        for sub_image, i, j in self.__get_sub_image(self.last_input):\n",
    "            h, w, f = sub_image.shape\n",
    "            mx = np.amax(sub_image, axis=(0, 1))\n",
    "\n",
    "            for i1 in range(h):\n",
    "                for j1 in range(w):\n",
    "                    for f1 in range(f):\n",
    "                        if sub_image[i1][j1][f1] == mx[f1]:\n",
    "                            d_loss_d_input[i * self.pool_size + i1][j * self.pool_size + j1, f1] = \\\n",
    "                                d_loss_d_output[i][j][f1]\n",
    "\n",
    "        return d_loss_d_input\n",
    "    "
   ]
  },
  {
   "cell_type": "code",
   "execution_count": 5,
   "metadata": {
    "pycharm": {
     "is_executing": false,
     "name": "#%%\n"
    }
   },
   "outputs": [],
   "source": [
    "class SoftArgMax:\n",
    "    def __init__(self, input_len, nodes, learn_rate=0.005):\n",
    "        self.nodes = nodes\n",
    "        self.weights = np.random.randn(input_len, nodes) / input_len\n",
    "        self.bs = np.zeros(nodes)\n",
    "        self.last_input_shape = None\n",
    "        self.last_input = None\n",
    "        self.last_totals = None\n",
    "        self.learn_rate = learn_rate\n",
    "\n",
    "        self.G_weights = np.zeros((input_len, nodes), dtype=float)\n",
    "        self.e_weights = np.full((input_len, nodes), eps)\n",
    "        self.G_b = np.zeros(nodes, dtype=float)\n",
    "        self.e_b = np.full(nodes, eps)\n",
    "\n",
    "    def forward(self, input):\n",
    "        self.last_input_shape = input.shape\n",
    "\n",
    "        input = input.flatten()\n",
    "        self.last_input = input\n",
    "\n",
    "        totals = np.dot(input, self.weights) + self.bs\n",
    "        self.last_totals = totals\n",
    "        exps = np.exp(totals)\n",
    "        return exps / np.sum(exps, axis=0)\n",
    "\n",
    "    def back_prop(self, d_loss_d_output):\n",
    "        for i, gradient in enumerate(d_loss_d_output):\n",
    "            if np.isclose(gradient, 0):\n",
    "                continue\n",
    "\n",
    "            t_exp = np.exp(self.last_totals)\n",
    "            S = np.sum(t_exp)\n",
    "\n",
    "            d_output_d_t = -t_exp[i] * t_exp / (S ** 2)\n",
    "            d_output_d_t[i] = t_exp[i] * (S - t_exp[i]) / (S ** 2)\n",
    "\n",
    "            d_t_d_w = self.last_input\n",
    "            d_t_d_b = 1\n",
    "            d_t_d_input = self.weights\n",
    "\n",
    "            d_loss_d_t = gradient * d_output_d_t\n",
    "\n",
    "            d_loss_d_w = d_t_d_w[np.newaxis].T @ d_loss_d_t[np.newaxis]\n",
    "            d_loss_d_b = d_loss_d_t * d_t_d_b\n",
    "            d_loss_d_input = d_t_d_input @ d_loss_d_t\n",
    "\n",
    "            self.G_weights += d_loss_d_w * d_loss_d_w\n",
    "            self.G_b += d_loss_d_b * d_loss_d_b\n",
    "\n",
    "            self.weights -= self.learn_rate / np.sqrt(self.G_weights + self.e_weights) * d_loss_d_w\n",
    "            self.bs -= self.learn_rate / np.sqrt(self.G_b + self.e_b) * d_loss_d_b\n",
    "\n",
    "            return d_loss_d_input.reshape(self.last_input_shape)\n",
    "        "
   ]
  },
  {
   "cell_type": "code",
   "execution_count": 6,
   "metadata": {
    "pycharm": {
     "is_executing": false,
     "name": "#%%\n"
    }
   },
   "outputs": [],
   "source": [
    "class CNN:\n",
    "    def __init__(self, layers, soft_arg_max_input_len):\n",
    "        self.layers = layers\n",
    "        self.soft_arg_max = SoftArgMax(soft_arg_max_input_len, 10)\n",
    "\n",
    "    def forward(self, image, label):\n",
    "        normalized_image = np.array(image).reshape((28, 28, 1)) / 255 - 0.5\n",
    "\n",
    "        output = self.layers[0].forward(normalized_image)\n",
    "        for i in range(1, len(self.layers)):\n",
    "            output = self.layers[i].forward(output)\n",
    "\n",
    "        output = self.soft_arg_max.forward(output)\n",
    "\n",
    "        loss = -np.log(output[label])\n",
    "        output_label = np.argmax(output)\n",
    "\n",
    "        return output, loss, output_label\n",
    "\n",
    "    def back_prop(self, gradient):\n",
    "        gradient = self.soft_arg_max.back_prop(gradient)\n",
    "\n",
    "        for j in range(len(self.layers) - 1, -1, -1):\n",
    "            gradient = self.layers[j].back_prop(gradient)\n",
    "\n",
    "    def fit(self, train_images, train_labels):\n",
    "        permutation = np.random.permutation(len(train_images))\n",
    "        images = np.array(train_images)[permutation]\n",
    "        labels = np.array(train_labels)[permutation]\n",
    "\n",
    "        for i in tqdm(range(len(images))):\n",
    "            image, label = images[i], labels[i]\n",
    "            output, loss, label_pred = self.forward(image, label)\n",
    "\n",
    "            gradient = np.zeros(10)\n",
    "            gradient[label] = -1 / output[label]\n",
    "\n",
    "            self.back_prop(gradient)"
   ]
  },
  {
   "cell_type": "code",
   "execution_count": 7,
   "metadata": {
    "pycharm": {
     "is_executing": false,
     "name": "#%%\n"
    }
   },
   "outputs": [],
   "source": [
    "def score(cnn, test_images, test_labels):\n",
    "    correct = 0.0\n",
    "    cm = [[0] * 10 for _ in range(10)]\n",
    "    \n",
    "    for i in tqdm(range(len(test_images))):\n",
    "        image, label = test_images[i], test_labels[i]\n",
    "        output, loss, label_pred = cnn.forward(image, label)\n",
    "        cm[label][label_pred] += 1\n",
    "        if label == label_pred:\n",
    "            correct += 1\n",
    "\n",
    "    accuracy = correct / len(test_images)\n",
    "    return 1 - accuracy, cm"
   ]
  },
  {
   "cell_type": "code",
   "execution_count": 8,
   "metadata": {
    "pycharm": {
     "is_executing": false,
     "name": "#%%\n"
    }
   },
   "outputs": [],
   "source": [
    "mnist_data = MNIST('data/mnist')\n",
    "\n",
    "mnist_train_images, mnist_train_labels = mnist_data.load_training()\n",
    "mnist_test_images, mnist_test_labels = mnist_data.load_testing()"
   ]
  },
  {
   "cell_type": "code",
   "execution_count": 9,
   "metadata": {
    "pycharm": {
     "is_executing": false,
     "name": "#%%\n"
    }
   },
   "outputs": [],
   "source": [
    "best_error_rate = 1.0\n",
    "best_architecture = []\n",
    "best_input_len = -1"
   ]
  },
  {
   "cell_type": "code",
   "execution_count": 10,
   "metadata": {
    "pycharm": {
     "is_executing": false,
     "name": "#%%\n"
    }
   },
   "outputs": [
    {
     "name": "stdout",
     "output_type": "stream",
     "text": [
      "conv + pool\n",
      "\n",
      "\n",
      "error rate = 0.089100\n",
      "\n",
      "---  ----  ---  ---  ---  ---  ---  ---  ---  ---\n",
      "958     0    1    3    0    8    6    1    3    0\n",
      "  0  1108    3    2    0    3    4    1   14    0\n",
      " 12     6  908   14   12    3   20   19   29    9\n",
      "  5     2   21  911    0   29    3   14   17    8\n",
      "  1     2   10    1  880    4   15    5    8   56\n",
      " 10     4    5   40    6  769   18    8   26    6\n",
      " 14     3    4    2    6   17  906    3    3    0\n",
      "  3    12   32    4    7    0    0  939    2   29\n",
      " 12     5    9   37    7   35   10   10  833   16\n",
      " 12     6    8   11   21   10    0   34   10  897\n",
      "---  ----  ---  ---  ---  ---  ---  ---  ---  ---\n"
     ]
    },
    {
     "data": {
      "application/vnd.jupyter.widget-view+json": {
       "model_id": "84cbfdb74b874e82bae37456efe4ff5b",
       "version_major": 2,
       "version_minor": 0
      },
      "text/plain": [
       "HBox(children=(FloatProgress(value=0.0, max=60000.0), HTML(value='')))"
      ]
     },
     "metadata": {},
     "output_type": "display_data"
    },
    {
     "data": {
      "application/vnd.jupyter.widget-view+json": {
       "model_id": "bf0b114d0cd844a091e9735abf5e7276",
       "version_major": 2,
       "version_minor": 0
      },
      "text/plain": [
       "HBox(children=(FloatProgress(value=0.0, max=10000.0), HTML(value='')))"
      ]
     },
     "metadata": {},
     "output_type": "display_data"
    }
   ],
   "source": [
    "print(\"conv + pool\")\n",
    "conv_pool = CNN([Conv(), MaxPool()], 14 * 14 * 8)\n",
    "conv_pool.fit(mnist_train_images, mnist_train_labels)\n",
    "error_rate, cm = score(conv_pool, mnist_test_images, mnist_test_labels)\n",
    "\n",
    "print(\"error rate = %f\\n\" % error_rate)\n",
    "print(tabulate(cm))\n",
    "\n",
    "if error_rate < best_error_rate:\n",
    "    best_error_rate = error_rate\n",
    "    best_architecture = [Conv(), MaxPool()]\n",
    "    best_input_len = 14 * 14 * 8"
   ]
  },
  {
   "cell_type": "code",
   "execution_count": 11,
   "metadata": {
    "pycharm": {
     "is_executing": false,
     "name": "#%%\n"
    }
   },
   "outputs": [
    {
     "name": "stdout",
     "output_type": "stream",
     "text": [
      "pool + conv\n",
      "\n",
      "\n",
      "error rate = 0.094800\n",
      "\n",
      "---  ----  ---  ---  ---  ---  ---  ---  ---  ---\n",
      "952     0    4    6    0    7    5    1    5    0\n",
      "  0  1098    7    5    0    3    5    0   17    0\n",
      " 12     5  905   17   15    2   17   20   30    9\n",
      "  4     2   22  918    0   20    3   13   20    8\n",
      "  1     4    5    1  900    3   13    4   10   41\n",
      " 10     7    8   54   15  729   21   14   28    6\n",
      " 13     5    9    2   17   14  892    3    3    0\n",
      "  2    10   30    7   10    0    0  928    2   39\n",
      "  6     7   18   31   12   20    9    9  845   17\n",
      " 12     5    9   13   36    6    0   35    8  885\n",
      "---  ----  ---  ---  ---  ---  ---  ---  ---  ---\n"
     ]
    },
    {
     "data": {
      "application/vnd.jupyter.widget-view+json": {
       "model_id": "e166c85c4b2c4e5c9963d6a9b05a77d0",
       "version_major": 2,
       "version_minor": 0
      },
      "text/plain": [
       "HBox(children=(FloatProgress(value=0.0, max=60000.0), HTML(value='')))"
      ]
     },
     "metadata": {},
     "output_type": "display_data"
    },
    {
     "data": {
      "application/vnd.jupyter.widget-view+json": {
       "model_id": "f09b28e62f574f0ca749dbd616756347",
       "version_major": 2,
       "version_minor": 0
      },
      "text/plain": [
       "HBox(children=(FloatProgress(value=0.0, max=10000.0), HTML(value='')))"
      ]
     },
     "metadata": {},
     "output_type": "display_data"
    }
   ],
   "source": [
    "print(\"pool + conv\")\n",
    "pool_conv = CNN([MaxPool(), Conv()], 14 * 14 * 8)\n",
    "pool_conv.fit(mnist_train_images, mnist_train_labels)\n",
    "error_rate, cm = score(pool_conv, mnist_test_images, mnist_test_labels)\n",
    "\n",
    "print(\"error rate = %f\\n\" % error_rate)\n",
    "print(tabulate(cm))\n",
    "\n",
    "if error_rate < best_error_rate:\n",
    "    best_error_rate = error_rate\n",
    "    best_architecture = [MaxPool(), Conv()]\n",
    "    best_input_len = 14 * 14 * 8"
   ]
  },
  {
   "cell_type": "code",
   "execution_count": 12,
   "metadata": {
    "pycharm": {
     "is_executing": false,
     "name": "#%%\n"
    }
   },
   "outputs": [
    {
     "name": "stdout",
     "output_type": "stream",
     "text": [
      "conv + conv\n",
      "\n",
      "\n",
      "error rate = 0.082600\n",
      "\n",
      "---  ----  ---  ---  ---  ---  ---  ---  ---  ---\n",
      "960     0    2    2    0    8    5    1    2    0\n",
      "  0  1094    4    2    1    2    4    1   27    0\n",
      "  9     6  929   16    7    1   13   12   34    5\n",
      "  3     0   29  906    0   28    1    9   28    6\n",
      "  2     1    5    0  890    0   12    4   13   55\n",
      "  8     2    7   34    9  758   14    7   44    9\n",
      " 15     3    9    0   17   11  896    1    6    0\n",
      "  3     6   40    5    8    0    1  925    2   38\n",
      "  5     3    7   20    8   17    8    9  889    8\n",
      " 13     4    2    8   21    8    0   13   13  927\n",
      "---  ----  ---  ---  ---  ---  ---  ---  ---  ---\n"
     ]
    },
    {
     "data": {
      "application/vnd.jupyter.widget-view+json": {
       "model_id": "bff0fdb99178482f9e493117fa7d2535",
       "version_major": 2,
       "version_minor": 0
      },
      "text/plain": [
       "HBox(children=(FloatProgress(value=0.0, max=60000.0), HTML(value='')))"
      ]
     },
     "metadata": {},
     "output_type": "display_data"
    },
    {
     "data": {
      "application/vnd.jupyter.widget-view+json": {
       "model_id": "548fb94f92b6496db0d8854c4a5aca40",
       "version_major": 2,
       "version_minor": 0
      },
      "text/plain": [
       "HBox(children=(FloatProgress(value=0.0, max=10000.0), HTML(value='')))"
      ]
     },
     "metadata": {},
     "output_type": "display_data"
    }
   ],
   "source": [
    "print(\"conv + conv\")\n",
    "conv2 = CNN([Conv(), Conv()], 28 * 28 * 8)\n",
    "conv2.fit(mnist_train_images, mnist_train_labels)\n",
    "error_rate, cm = score(conv2, mnist_test_images, mnist_test_labels)\n",
    "\n",
    "print(\"error rate = %f\\n\" % error_rate)\n",
    "print(tabulate(cm))\n",
    "\n",
    "if error_rate < best_error_rate:\n",
    "    best_error_rate = error_rate\n",
    "    best_architecture = [Conv(), Conv()]\n",
    "    best_input_len = 28 * 28 * 8"
   ]
  },
  {
   "cell_type": "code",
   "execution_count": 13,
   "metadata": {
    "pycharm": {
     "is_executing": false,
     "name": "#%%\n"
    }
   },
   "outputs": [
    {
     "name": "stdout",
     "output_type": "stream",
     "text": [
      "conv + conv + pool\n",
      "\n",
      "\n",
      "error rate = 0.084700\n",
      "\n",
      "---  ----  ---  ---  ---  ---  ---  ---  ---  ---\n",
      "953     0    1    2    0   16    5    1    2    0\n",
      "  0  1088    5    3    0    9    4    1   25    0\n",
      "  9     2  926   11   13    5   13   10   36    7\n",
      "  4     0   20  885    1   55    2    7   26   10\n",
      "  1     1    6    1  902    6    8    2   15   40\n",
      "  6     2    2   20    3  816   10    2   27    4\n",
      " 12     2    8    0   12   33  885    1    5    0\n",
      "  2     6   31    5    9    4    0  912    3   56\n",
      "  7     2    4   14    8   57    7    3  856   16\n",
      " 10     4    4   11   18    9    0   12   11  930\n",
      "---  ----  ---  ---  ---  ---  ---  ---  ---  ---\n"
     ]
    },
    {
     "data": {
      "application/vnd.jupyter.widget-view+json": {
       "model_id": "39e8321d96c24204acb864ab64d9bf91",
       "version_major": 2,
       "version_minor": 0
      },
      "text/plain": [
       "HBox(children=(FloatProgress(value=0.0, max=60000.0), HTML(value='')))"
      ]
     },
     "metadata": {},
     "output_type": "display_data"
    },
    {
     "data": {
      "application/vnd.jupyter.widget-view+json": {
       "model_id": "4c81df07aa3248ada38c1f7e5122ada0",
       "version_major": 2,
       "version_minor": 0
      },
      "text/plain": [
       "HBox(children=(FloatProgress(value=0.0, max=10000.0), HTML(value='')))"
      ]
     },
     "metadata": {},
     "output_type": "display_data"
    }
   ],
   "source": [
    "print(\"conv + conv + pool\")\n",
    "conv2_pool = CNN([Conv(), Conv(), MaxPool()], 14 * 14 * 8)\n",
    "conv2_pool.fit(mnist_train_images, mnist_train_labels)\n",
    "error_rate, cm = score(conv2_pool, mnist_test_images, mnist_test_labels)\n",
    "\n",
    "print(\"error rate = %f\\n\" % error_rate)\n",
    "print(tabulate(cm))\n",
    "\n",
    "if error_rate < best_error_rate:\n",
    "    best_error_rate = error_rate\n",
    "    best_architecture = [Conv(), Conv(), MaxPool()]\n",
    "    best_input_len = 14 * 14 * 8"
   ]
  },
  {
   "cell_type": "code",
   "execution_count": 14,
   "metadata": {
    "pycharm": {
     "is_executing": false,
     "name": "#%%\n"
    }
   },
   "outputs": [
    {
     "name": "stdout",
     "output_type": "stream",
     "text": [
      "conv + conv + conv + pool\n",
      "\n",
      "\n",
      "error rate = 0.082600\n",
      "\n",
      "---  ----  ---  ---  ---  ---  ---  ---  ---  ---\n",
      "960     0    2    2    0    7    4    1    4    0\n",
      "  0  1114    4    2    0    2    3    1    9    0\n",
      "  7    10  907   26   10    3    4   14   43    8\n",
      "  4     1   17  938    0   17    1    9   18    5\n",
      "  1     3   14    3  888    3    4    3   15   48\n",
      "  7     4    6   46    4  749   12    5   51    8\n",
      " 13     3   15    5   13   14  885    2    8    0\n",
      "  1     8   29    9    5    0    0  918    3   55\n",
      "  6     4    4   27    6   13    6    2  894   12\n",
      "  7     9    3   11   22    5    0   16   15  921\n",
      "---  ----  ---  ---  ---  ---  ---  ---  ---  ---\n"
     ]
    },
    {
     "data": {
      "application/vnd.jupyter.widget-view+json": {
       "model_id": "ad633a3391594d1b95afe517ce86f5f2",
       "version_major": 2,
       "version_minor": 0
      },
      "text/plain": [
       "HBox(children=(FloatProgress(value=0.0, max=60000.0), HTML(value='')))"
      ]
     },
     "metadata": {},
     "output_type": "display_data"
    },
    {
     "data": {
      "application/vnd.jupyter.widget-view+json": {
       "model_id": "eb908dcc0a6741f5824c391847978e4d",
       "version_major": 2,
       "version_minor": 0
      },
      "text/plain": [
       "HBox(children=(FloatProgress(value=0.0, max=10000.0), HTML(value='')))"
      ]
     },
     "metadata": {},
     "output_type": "display_data"
    }
   ],
   "source": [
    "print(\"conv + conv + conv + pool\")\n",
    "conv3_pool = CNN([Conv(), Conv(), Conv(), MaxPool()], 14 * 14 * 8)\n",
    "conv3_pool.fit(mnist_train_images, mnist_train_labels)\n",
    "error_rate, cm = score(conv3_pool, mnist_test_images, mnist_test_labels)\n",
    "\n",
    "print(\"error rate = %f\\n\" % error_rate)\n",
    "print(tabulate(cm))\n",
    "\n",
    "if error_rate < best_error_rate:\n",
    "    best_error_rate = error_rate\n",
    "    best_architecture = [Conv(), Conv(), Conv(), MaxPool()]\n",
    "    best_input_len = 14 * 14 * 8"
   ]
  },
  {
   "cell_type": "code",
   "execution_count": 15,
   "metadata": {
    "pycharm": {
     "is_executing": false,
     "name": "#%%\n"
    }
   },
   "outputs": [
    {
     "name": "stdout",
     "output_type": "stream",
     "text": [
      "conv + pool + conv + pool\n",
      "\n",
      "\n",
      "error rate = 0.065000\n",
      "\n",
      "---  ----  ---  ---  ---  ---  ---  ---  ---  ---\n",
      "966     0    1    2    0    2    7    1    1    0\n",
      "  0  1115    3    3    1    1    2    1    9    0\n",
      "  8     3  943   21    9    1    8    9   25    5\n",
      "  4     3   11  952    0   11    2    6   12    9\n",
      "  1     2    8    1  918    1    9    2    6   34\n",
      " 12     3    2   37    4  792   19    2   17    4\n",
      "  9     2    5    3    7   10  919    1    2    0\n",
      "  0     6   30   12    6    0    0  936    4   34\n",
      "  7     5    7   25    7   11    8    2  888   14\n",
      " 11     9    4   12   27    6    0   10    9  921\n",
      "---  ----  ---  ---  ---  ---  ---  ---  ---  ---\n"
     ]
    },
    {
     "data": {
      "application/vnd.jupyter.widget-view+json": {
       "model_id": "72c0e69c51f84b788ec66ad0c393cc8d",
       "version_major": 2,
       "version_minor": 0
      },
      "text/plain": [
       "HBox(children=(FloatProgress(value=0.0, max=60000.0), HTML(value='')))"
      ]
     },
     "metadata": {},
     "output_type": "display_data"
    },
    {
     "data": {
      "application/vnd.jupyter.widget-view+json": {
       "model_id": "c0a7f08d2d4b47a094aae901061029fb",
       "version_major": 2,
       "version_minor": 0
      },
      "text/plain": [
       "HBox(children=(FloatProgress(value=0.0, max=10000.0), HTML(value='')))"
      ]
     },
     "metadata": {},
     "output_type": "display_data"
    }
   ],
   "source": [
    "print(\"conv + pool + conv + pool\")\n",
    "conv_pool_2 = CNN([Conv(), MaxPool(), Conv(), MaxPool()], 7 * 7 * 8)\n",
    "conv_pool_2.fit(mnist_train_images, mnist_train_labels)\n",
    "error_rate, cm = score(conv_pool_2, mnist_test_images, mnist_test_labels)\n",
    "\n",
    "print(\"error rate = %f\\n\" % error_rate)\n",
    "print(tabulate(cm))\n",
    "\n",
    "if error_rate < best_error_rate:\n",
    "    best_error_rate = error_rate\n",
    "    best_architecture = [Conv(), MaxPool(), Conv(), MaxPool()]\n",
    "    best_input_len = 7 * 7 * 8"
   ]
  },
  {
   "cell_type": "code",
   "execution_count": 16,
   "metadata": {
    "pycharm": {
     "is_executing": false,
     "name": "#%%\n"
    }
   },
   "outputs": [
    {
     "name": "stdout",
     "output_type": "stream",
     "text": [
      "best architecture - Conv + MaxPool + Conv + MaxPool\n",
      "error rate = 0.065000\n"
     ]
    }
   ],
   "source": [
    "print('best architecture - ' + ' + '.join([layer.__class__.__name__ for layer in best_architecture]))\n",
    "print('error rate = %f' % best_error_rate)"
   ]
  },
  {
   "cell_type": "code",
   "execution_count": 17,
   "metadata": {
    "pycharm": {
     "is_executing": false,
     "name": "#%% \n"
    }
   },
   "outputs": [],
   "source": [
    "fashion_data = MNIST('data/fashion')\n",
    "fashion_train_images, fashion_train_labels = mnist_data.load_training()\n",
    "fashion_test_images, fashion_test_labels = mnist_data.load_testing()"
   ]
  },
  {
   "cell_type": "code",
   "execution_count": 18,
   "metadata": {
    "pycharm": {
     "is_executing": false,
     "name": "#%%\n"
    }
   },
   "outputs": [
    {
     "data": {
      "application/vnd.jupyter.widget-view+json": {
       "model_id": "9a0c545c033e46a3bb69c8dcb3ee2e72",
       "version_major": 2,
       "version_minor": 0
      },
      "text/plain": [
       "HBox(children=(FloatProgress(value=0.0, max=60000.0), HTML(value='')))"
      ]
     },
     "metadata": {},
     "output_type": "display_data"
    },
    {
     "name": "stdout",
     "output_type": "stream",
     "text": [
      "\n",
      "\n",
      "error rate = 0.085400\n",
      "\n",
      "---  ----  ---  ---  ---  ---  ---  ---  ---  ---\n",
      "958     0    1    3    0    7    8    1    2    0\n",
      "  0  1102    3    5    0    1    5    1   18    0\n",
      "  9     3  898   32   17    2   16   21   26    8\n",
      "  3     1   13  936    1   19    0   16   12    9\n",
      "  1     2    5    1  893    1   13    4    8   54\n",
      "  6     3    5   39    8  769   19    6   25   12\n",
      " 12     3    4    5   13   26  889    2    4    0\n",
      "  1     7   24    9    7    0    1  941    3   35\n",
      "  5     5    8   44   10   26    7   16  843   10\n",
      "  7     6    4   12   20    8    1   26    8  917\n",
      "---  ----  ---  ---  ---  ---  ---  ---  ---  ---\n"
     ]
    },
    {
     "data": {
      "application/vnd.jupyter.widget-view+json": {
       "model_id": "a5f6e7259d924320b4007b91bc8ec475",
       "version_major": 2,
       "version_minor": 0
      },
      "text/plain": [
       "HBox(children=(FloatProgress(value=0.0, max=10000.0), HTML(value='')))"
      ]
     },
     "metadata": {},
     "output_type": "display_data"
    }
   ],
   "source": [
    "cnn = CNN(best_architecture, best_input_len)\n",
    "cnn.fit(fashion_train_images, fashion_train_labels)\n",
    "error_rate, cm = score(cnn, fashion_test_images, fashion_test_labels)\n",
    "\n",
    "print(\"error rate = %f\\n\" % error_rate)\n",
    "print(tabulate(cm))"
   ]
  }
 ],
 "metadata": {
  "kernelspec": {
   "display_name": "PyCharm (Lab7(CNN))",
   "language": "python",
   "name": "pycharm-2c930bc7"
  },
  "language_info": {
   "codemirror_mode": {
    "name": "ipython",
    "version": 3
   },
   "file_extension": ".py",
   "mimetype": "text/x-python",
   "name": "python",
   "nbconvert_exporter": "python",
   "pygments_lexer": "ipython3",
   "version": "3.6.9"
  },
  "pycharm": {
   "stem_cell": {
    "cell_type": "raw",
    "metadata": {
     "collapsed": false
    },
    "source": []
   }
  }
 },
 "nbformat": 4,
 "nbformat_minor": 1
}
