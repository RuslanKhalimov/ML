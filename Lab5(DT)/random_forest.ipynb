{
 "cells": [
  {
   "cell_type": "code",
   "execution_count": 1,
   "metadata": {
    "collapsed": true,
    "pycharm": {
     "is_executing": false
    }
   },
   "outputs": [],
   "source": [
    "import matplotlib.pyplot as plt\n",
    "import numpy as np\n",
    "from tqdm import tqdm\n",
    "\n",
    "from data import train_X_list, train_y_list, test_X_list, test_y_list\n",
    "from structures import DecisionTree, RandomForest\n",
    "from quality import test_classifier"
   ]
  },
  {
   "cell_type": "code",
   "execution_count": 2,
   "metadata": {
    "pycharm": {
     "is_executing": false,
     "name": "#%%\n"
    }
   },
   "outputs": [],
   "source": [
    "forest_size = 100\n",
    "datasets = np.array(range(21))\n",
    "tree_f_scores = []\n",
    "random_objects_forest_f_scores = []\n",
    "random_features_forest_f_scores = []"
   ]
  },
  {
   "cell_type": "code",
   "execution_count": 3,
   "metadata": {
    "pycharm": {
     "is_executing": false,
     "name": "#%%\n"
    }
   },
   "outputs": [
    {
     "name": "stderr",
     "text": [
      "\r  0%|          | 0/21 [00:00<?, ?it/s]",
      "\r  5%|▍         | 1/21 [35:45<11:55:09, 2145.47s/it]",
      "\r 10%|▉         | 2/21 [2:19:23<17:46:17, 3367.22s/it]",
      "\r 14%|█▍        | 3/21 [3:09:26<16:17:24, 3258.01s/it]",
      "\r 19%|█▉        | 4/21 [4:39:10<18:23:45, 3895.63s/it]",
      "\r 24%|██▍       | 5/21 [4:41:23<12:17:49, 2766.87s/it]",
      "\r 29%|██▊       | 6/21 [5:34:25<12:02:51, 2891.41s/it]",
      "\r 33%|███▎      | 7/21 [6:26:44<11:32:00, 2965.76s/it]",
      "\r 38%|███▊      | 8/21 [6:31:35<7:48:44, 2163.40s/it] ",
      "\r 43%|████▎     | 9/21 [6:36:18<5:19:51, 1599.29s/it]",
      "\r 48%|████▊     | 10/21 [6:55:28<4:28:30, 1464.61s/it]",
      "\r 52%|█████▏    | 11/21 [7:15:53<3:52:05, 1392.52s/it]",
      "\r 57%|█████▋    | 12/21 [7:35:42<3:19:42, 1331.41s/it]",
      "\r 62%|██████▏   | 13/21 [7:54:40<2:49:46, 1273.36s/it]",
      "\r 67%|██████▋   | 14/21 [8:52:18<3:45:01, 1928.75s/it]",
      "\r 71%|███████▏  | 15/21 [9:16:12<2:58:02, 1780.41s/it]",
      "\r 76%|███████▌  | 16/21 [10:30:46<3:35:43, 2588.69s/it]",
      "\r 81%|████████  | 17/21 [11:06:13<2:43:19, 2449.92s/it]",
      "\r 86%|████████▌ | 18/21 [11:31:17<1:48:18, 2166.16s/it]",
      "\r 90%|█████████ | 19/21 [11:39:23<55:24, 1662.17s/it]  ",
      "\r 95%|█████████▌| 20/21 [11:51:57<23:09, 1389.69s/it]",
      "\r100%|██████████| 21/21 [11:58:17<00:00, 1086.85s/it]",
      "\r100%|██████████| 21/21 [11:58:17<00:00, 2052.26s/it]",
      "\n"
     ],
     "output_type": "stream"
    }
   ],
   "source": [
    "for dataset_index in tqdm(datasets):\n",
    "    tree = DecisionTree(10)\n",
    "    random_objects_forest = RandomForest(is_random_objects=True)\n",
    "    random_features_forest = RandomForest(is_random_features=True)\n",
    "    \n",
    "    tree.fit(train_X_list[dataset_index], train_y_list[dataset_index])\n",
    "    random_objects_forest.fit(train_X_list[dataset_index], train_y_list[dataset_index], forest_size)\n",
    "    random_features_forest.fit(train_X_list[dataset_index], train_y_list[dataset_index], forest_size)\n",
    "    \n",
    "    tree_f_scores.append(test_classifier(tree, test_X_list[dataset_index], test_y_list[dataset_index]))    \n",
    "    random_objects_forest_f_scores.append(\n",
    "        test_classifier(random_objects_forest, test_X_list[dataset_index], test_y_list[dataset_index]))\n",
    "    random_features_forest_f_scores.append(\n",
    "        test_classifier(random_features_forest, test_X_list[dataset_index], test_y_list[dataset_index]))    "
   ]
  },
  {
   "cell_type": "code",
   "execution_count": 4,
   "metadata": {
    "pycharm": {
     "is_executing": false,
     "name": "#%%\n"
    }
   },
   "outputs": [
    {
     "data": {
      "text/plain": "<Figure size 432x288 with 1 Axes>",
      "image/png": "[encoded data removed]"
     },
     "metadata": {
      "needs_background": "light"
     },
     "output_type": "display_data"
    }
   ],
   "source": [
    "width = 0.2\n",
    "plt.bar(datasets - width, tree_f_scores, label='One tree', width=width)\n",
    "plt.bar(datasets, random_objects_forest_f_scores, label='Random objects', width=width)\n",
    "plt.bar(datasets + width, random_features_forest_f_scores, label='Random features', width=width)\n",
    "plt.xlabel('Датасет')\n",
    "plt.ylabel('F-мера')\n",
    "plt.legend()\n",
    "plt.show()"
   ]
  }
 ],
 "metadata": {
  "kernelspec": {
   "display_name": "Python 3",
   "language": "python",
   "name": "python3"
  },
  "language_info": {
   "codemirror_mode": {
    "name": "ipython",
    "version": 3
   },
   "file_extension": ".py",
   "mimetype": "text/x-python",
   "name": "python",
   "nbconvert_exporter": "python",
   "pygments_lexer": "ipython3",
   "version": "3.7.4"
  },
  "pycharm": {
   "stem_cell": {
    "cell_type": "raw",
    "source": [],
    "metadata": {
     "collapsed": false
    }
   }
  }
 },
 "nbformat": 4,
 "nbformat_minor": 1
}